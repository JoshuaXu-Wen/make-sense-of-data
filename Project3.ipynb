{
 "cells": [
  {
   "cell_type": "markdown",
   "metadata": {},
   "source": [
    "<b> Data science Project 3 </b> <br>\n",
    "\n",
    "<b> co-ordinator : Teo Susnjak </b> <br>\n",
    "\n",
    "<b> Group members :<br> Joshua Xu : 19036937 <br>\n",
    "                     Meet Shah     : 20011945 </b>"
   ]
  },
  {
   "cell_type": "markdown",
   "metadata": {},
   "source": [
    " # Abstract\n",
    "* Evaluating a Jupyter notebook by taking part in the online competition that is on Kaggle Website.\n",
    " \n",
    "* In this notebook we will be taking part in the Kaggle competetion that is <b>M5 Uncertainity</b> and  predicting the score related to the Topic by submitting the notebook on kaggle platform.\n",
    " \n",
    "* Uploading CSV file from kaggle into notebook and perform some Exploratory data analysis(EDA) on the datsets and perform some algorithms.\n",
    " \n",
    "* Three algorithms are evaluated in this notebook: **SVR performs better for validation, but the submission socre is not as good as KNN**. However, SVR is preserved in this notebook for demonstration - it is simple to change only one line of code (which is the name that represent the algorithm) to get a different result of a given algorithm.\n",
    " \n",
    "* Quantiles computing uses a mapping function copy from Kaggle to simplify the computing.\n",
    "\n",
    "* Calculating the Quantiles by dividing the datasets into two parts that is one is validation and second is evaluation."
   ]
  },
  {
   "cell_type": "markdown",
   "metadata": {},
   "source": [
    "## Contents Of Notebook"
   ]
  },
  {
   "cell_type": "markdown",
   "metadata": {},
   "source": [
    "* <a href='#Introduction'>1. Introduction</a>\n",
    "* <a href='#library'>2. Importing Libraries</a>\n",
    "* <a href='#csv'>3. Uploading Csv Files</a>\n",
    "* <a href='#EDA'>4. EDA - Exploratory data analysis on the datasets</a>\n",
    "* <a href='#cal'>5. Calender table processing</a>\n",
    "* <a href='#sel'>6. sales train validation table process</a>\n",
    "* <a href='#sellpriceprocess'>7.sell price table processing</a>\n",
    "* <a href='#Algorithms'>8.Modeling and computing with several machine learning algorithms</a>\n",
    "    * <a href='#AlgorithmComparison'> 8.1.Algorithm Comparison</a>\n",
    "* <a href='#uncertainity'>9.Calculating uncertainity</a> \n",
    "* <a href='#conclusion'>10.Conclusion</a>"
   ]
  },
  {
   "cell_type": "markdown",
   "metadata": {},
   "source": [
    "<a id='Introduction'></a>\n",
    "## 1. Introduction\n",
    "The M5 database, kindly made accessible by Walmart, contains aggregate purchases of different goods distributed in the United States, arranged in the context of time - series data clustered together. More specifically, the dataset includes the unit sales of 3,049 products, categorised into 3 product categories (Hobbies, Foods and Households) and seven item depts, wherein the concepts described above are partitioned.\n",
    "\n",
    "The goods are distributed in 10 markets, in 3 states (CA, TX, and WI). In this context, the lowest step of a system , i.e. revenues of in-store units may be distributed into various commodity groups or regional territories.\n",
    "\n",
    "In the competition we have to submit the 28 days ahead point forecast for all the series.Secondly we have to sumit the prediction score for the median and intervals that is 50%, 67%, 95%, and 99%.\n",
    "\n",
    "In this we can seperate the datasets into 2 parts that is one for validation and second for the evaluation.\n",
    "\n",
    "In this notebook various EDA techniques been performed on the datasets for better understanding of the data and perform various algorithms on the generated datasets.\n",
    "\n",
    "By performing various algorithms on the created dataset we can get the predicted values for the sales and uncertainty is been calculated with the help of different source that is  https://www.kaggle.com/kneroma/from-point-to-uncertainty-prediction."
   ]
  },
  {
   "cell_type": "markdown",
   "metadata": {},
   "source": [
    "<a id='library'></a>\n",
    "\n",
    "## 2. Importing libraries\n",
    "Loading libraries for Kaggle platform"
   ]
  },
  {
   "cell_type": "code",
   "execution_count": 1,
   "metadata": {
    "_cell_guid": "b1076dfc-b9ad-4769-8c92-a6c4dae69d19",
    "_uuid": "8f2839f25d086af736a60e9eeb907d3b93b6e0e5"
   },
   "outputs": [
    {
     "name": "stdout",
     "output_type": "stream",
     "text": [
      "/kaggle/input/m5-forecasting-uncertainty/sample_submission.csv\n",
      "/kaggle/input/m5-forecasting-uncertainty/sales_train_validation.csv\n",
      "/kaggle/input/m5-forecasting-uncertainty/sell_prices.csv\n",
      "/kaggle/input/m5-forecasting-uncertainty/calendar.csv\n"
     ]
    }
   ],
   "source": [
    "# This Python 3 environment comes with many helpful analytics libraries installed\n",
    "# It is defined by the kaggle/python Docker image: https://github.com/kaggle/docker-python\n",
    "# For example, here's several helpful packages to load\n",
    "\n",
    "import numpy as np # linear algebra\n",
    "import pandas as pd # data processing, CSV file I/O (e.g. pd.read_csv)\n",
    "\n",
    "# Input data files are available in the read-only \"../input/\" directory\n",
    "# For example, running this (by clicking run or pressing Shift+Enter) will list all files under the input directory\n",
    "\n",
    "import os\n",
    "for dirname, _, filenames in os.walk('/kaggle/input'):\n",
    "    for filename in filenames:\n",
    "        print(os.path.join(dirname, filename))\n",
    "\n",
    "# You can write up to 5GB to the current directory (/kaggle/working/) that gets preserved as output when you create a version using \"Save & Run All\" \n",
    "# You can also write temporary files to /kaggle/temp/, but they won't be saved outside of the current session"
   ]
  },
  {
   "cell_type": "code",
   "execution_count": 2,
   "metadata": {
    "_cell_guid": "79c7e3d0-c299-4dcb-8224-4455121ee9b0",
    "_uuid": "d629ff2d2480ee46fbb7e2d37f6b5fab8052498a"
   },
   "outputs": [],
   "source": [
    "import pandas as pd\n",
    "import numpy as np\n",
    "import seaborn as sns\n",
    "import matplotlib.pyplot as plt\n",
    "from datetime import datetime\n",
    "from sklearn import neighbors\n",
    "from sklearn.ensemble import RandomForestRegressor\n",
    "from sklearn.ensemble import GradientBoostingRegressor\n",
    "from sklearn.neighbors import KNeighborsRegressor\n",
    "from sklearn.preprocessing import MinMaxScaler\n",
    "from pylab import rcParams\n",
    "%matplotlib inline\n"
   ]
  },
  {
   "cell_type": "markdown",
   "metadata": {},
   "source": [
    "###### Importing libraries for implemetation of notebook without any interruption."
   ]
  },
  {
   "cell_type": "code",
   "execution_count": 3,
   "metadata": {},
   "outputs": [],
   "source": [
    "rcParams['lines.linewidth'] = 2\n",
    "#rcParams['axes.facecolor'] = 'white'\n",
    "#cParams['patch.edgecolor'] = 'white'                                                  # Applying rc param for clear and visualizable graph.\n",
    "rcParams['figure.figsize'] = 20,5\n",
    "rcParams['font.size'] = 15\n",
    "rcParams['xtick.labelsize'] = 15\n",
    "rcParams['ytick.labelsize'] = 15"
   ]
  },
  {
   "cell_type": "markdown",
   "metadata": {},
   "source": [
    "<a id='csv'></a>\n",
    "\n",
    "## 3. Upolading Csv file from Kaggle"
   ]
  },
  {
   "cell_type": "markdown",
   "metadata": {},
   "source": [
    "There are four Csv file from the kaggle competition datasets."
   ]
  },
  {
   "cell_type": "code",
   "execution_count": 4,
   "metadata": {},
   "outputs": [],
   "source": [
    "folder = \"/kaggle/input/m5-forecasting-uncertainty/\"\n",
    "sales_train_validation = pd.read_csv((folder + \"sales_train_validation.csv\"))\n",
    "sell_prices = pd.read_csv((folder + \"sell_prices.csv\"))\n",
    "calendar = pd.read_csv((folder + \"calendar.csv\"), parse_dates=['date'])\n",
    "sample_submission = pd.read_csv((folder + \"sample_submission.csv\"))\n"
   ]
  },
  {
   "cell_type": "code",
   "execution_count": 5,
   "metadata": {},
   "outputs": [
    {
     "name": "stdout",
     "output_type": "stream",
     "text": [
      "shape.stv: (30490, 1919)\n",
      "shape.cal: (1969, 14)\n",
      "shape.sp: (6841121, 4)\n",
      "shape.ss: (771120, 29)\n"
     ]
    }
   ],
   "source": [
    "print(\"shape.stv:\", sales_train_validation.shape)\n",
    "print(\"shape.cal:\", calendar.shape)\n",
    "print(\"shape.sp:\", sell_prices.shape)\n",
    "print(\"shape.ss:\", sample_submission.shape)"
   ]
  },
  {
   "cell_type": "code",
   "execution_count": 6,
   "metadata": {},
   "outputs": [
    {
     "data": {
      "text/html": [
       "<div>\n",
       "<style scoped>\n",
       "    .dataframe tbody tr th:only-of-type {\n",
       "        vertical-align: middle;\n",
       "    }\n",
       "\n",
       "    .dataframe tbody tr th {\n",
       "        vertical-align: top;\n",
       "    }\n",
       "\n",
       "    .dataframe thead th {\n",
       "        text-align: right;\n",
       "    }\n",
       "</style>\n",
       "<table border=\"1\" class=\"dataframe\">\n",
       "  <thead>\n",
       "    <tr style=\"text-align: right;\">\n",
       "      <th></th>\n",
       "      <th>id</th>\n",
       "      <th>item_id</th>\n",
       "      <th>dept_id</th>\n",
       "      <th>cat_id</th>\n",
       "      <th>store_id</th>\n",
       "      <th>state_id</th>\n",
       "      <th>d_1</th>\n",
       "      <th>d_2</th>\n",
       "      <th>d_3</th>\n",
       "      <th>d_4</th>\n",
       "      <th>...</th>\n",
       "      <th>d_1904</th>\n",
       "      <th>d_1905</th>\n",
       "      <th>d_1906</th>\n",
       "      <th>d_1907</th>\n",
       "      <th>d_1908</th>\n",
       "      <th>d_1909</th>\n",
       "      <th>d_1910</th>\n",
       "      <th>d_1911</th>\n",
       "      <th>d_1912</th>\n",
       "      <th>d_1913</th>\n",
       "    </tr>\n",
       "  </thead>\n",
       "  <tbody>\n",
       "    <tr>\n",
       "      <th>0</th>\n",
       "      <td>HOBBIES_1_001_CA_1_validation</td>\n",
       "      <td>HOBBIES_1_001</td>\n",
       "      <td>HOBBIES_1</td>\n",
       "      <td>HOBBIES</td>\n",
       "      <td>CA_1</td>\n",
       "      <td>CA</td>\n",
       "      <td>0</td>\n",
       "      <td>0</td>\n",
       "      <td>0</td>\n",
       "      <td>0</td>\n",
       "      <td>...</td>\n",
       "      <td>1</td>\n",
       "      <td>3</td>\n",
       "      <td>0</td>\n",
       "      <td>1</td>\n",
       "      <td>1</td>\n",
       "      <td>1</td>\n",
       "      <td>3</td>\n",
       "      <td>0</td>\n",
       "      <td>1</td>\n",
       "      <td>1</td>\n",
       "    </tr>\n",
       "    <tr>\n",
       "      <th>1</th>\n",
       "      <td>HOBBIES_1_002_CA_1_validation</td>\n",
       "      <td>HOBBIES_1_002</td>\n",
       "      <td>HOBBIES_1</td>\n",
       "      <td>HOBBIES</td>\n",
       "      <td>CA_1</td>\n",
       "      <td>CA</td>\n",
       "      <td>0</td>\n",
       "      <td>0</td>\n",
       "      <td>0</td>\n",
       "      <td>0</td>\n",
       "      <td>...</td>\n",
       "      <td>0</td>\n",
       "      <td>0</td>\n",
       "      <td>0</td>\n",
       "      <td>0</td>\n",
       "      <td>0</td>\n",
       "      <td>1</td>\n",
       "      <td>0</td>\n",
       "      <td>0</td>\n",
       "      <td>0</td>\n",
       "      <td>0</td>\n",
       "    </tr>\n",
       "  </tbody>\n",
       "</table>\n",
       "<p>2 rows × 1919 columns</p>\n",
       "</div>"
      ],
      "text/plain": [
       "                              id        item_id    dept_id   cat_id store_id  \\\n",
       "0  HOBBIES_1_001_CA_1_validation  HOBBIES_1_001  HOBBIES_1  HOBBIES     CA_1   \n",
       "1  HOBBIES_1_002_CA_1_validation  HOBBIES_1_002  HOBBIES_1  HOBBIES     CA_1   \n",
       "\n",
       "  state_id  d_1  d_2  d_3  d_4  ...  d_1904  d_1905  d_1906  d_1907  d_1908  \\\n",
       "0       CA    0    0    0    0  ...       1       3       0       1       1   \n",
       "1       CA    0    0    0    0  ...       0       0       0       0       0   \n",
       "\n",
       "   d_1909  d_1910  d_1911  d_1912  d_1913  \n",
       "0       1       3       0       1       1  \n",
       "1       1       0       0       0       0  \n",
       "\n",
       "[2 rows x 1919 columns]"
      ]
     },
     "execution_count": 6,
     "metadata": {},
     "output_type": "execute_result"
    }
   ],
   "source": [
    "sales_train_validation.head(2)"
   ]
  },
  {
   "cell_type": "code",
   "execution_count": 7,
   "metadata": {},
   "outputs": [
    {
     "data": {
      "text/html": [
       "<div>\n",
       "<style scoped>\n",
       "    .dataframe tbody tr th:only-of-type {\n",
       "        vertical-align: middle;\n",
       "    }\n",
       "\n",
       "    .dataframe tbody tr th {\n",
       "        vertical-align: top;\n",
       "    }\n",
       "\n",
       "    .dataframe thead th {\n",
       "        text-align: right;\n",
       "    }\n",
       "</style>\n",
       "<table border=\"1\" class=\"dataframe\">\n",
       "  <thead>\n",
       "    <tr style=\"text-align: right;\">\n",
       "      <th></th>\n",
       "      <th>date</th>\n",
       "      <th>wm_yr_wk</th>\n",
       "      <th>weekday</th>\n",
       "      <th>wday</th>\n",
       "      <th>month</th>\n",
       "      <th>year</th>\n",
       "      <th>d</th>\n",
       "      <th>event_name_1</th>\n",
       "      <th>event_type_1</th>\n",
       "      <th>event_name_2</th>\n",
       "      <th>event_type_2</th>\n",
       "      <th>snap_CA</th>\n",
       "      <th>snap_TX</th>\n",
       "      <th>snap_WI</th>\n",
       "    </tr>\n",
       "  </thead>\n",
       "  <tbody>\n",
       "    <tr>\n",
       "      <th>0</th>\n",
       "      <td>2011-01-29</td>\n",
       "      <td>11101</td>\n",
       "      <td>Saturday</td>\n",
       "      <td>1</td>\n",
       "      <td>1</td>\n",
       "      <td>2011</td>\n",
       "      <td>d_1</td>\n",
       "      <td>NaN</td>\n",
       "      <td>NaN</td>\n",
       "      <td>NaN</td>\n",
       "      <td>NaN</td>\n",
       "      <td>0</td>\n",
       "      <td>0</td>\n",
       "      <td>0</td>\n",
       "    </tr>\n",
       "    <tr>\n",
       "      <th>1</th>\n",
       "      <td>2011-01-30</td>\n",
       "      <td>11101</td>\n",
       "      <td>Sunday</td>\n",
       "      <td>2</td>\n",
       "      <td>1</td>\n",
       "      <td>2011</td>\n",
       "      <td>d_2</td>\n",
       "      <td>NaN</td>\n",
       "      <td>NaN</td>\n",
       "      <td>NaN</td>\n",
       "      <td>NaN</td>\n",
       "      <td>0</td>\n",
       "      <td>0</td>\n",
       "      <td>0</td>\n",
       "    </tr>\n",
       "  </tbody>\n",
       "</table>\n",
       "</div>"
      ],
      "text/plain": [
       "        date  wm_yr_wk   weekday  wday  month  year    d event_name_1  \\\n",
       "0 2011-01-29     11101  Saturday     1      1  2011  d_1          NaN   \n",
       "1 2011-01-30     11101    Sunday     2      1  2011  d_2          NaN   \n",
       "\n",
       "  event_type_1 event_name_2 event_type_2  snap_CA  snap_TX  snap_WI  \n",
       "0          NaN          NaN          NaN        0        0        0  \n",
       "1          NaN          NaN          NaN        0        0        0  "
      ]
     },
     "execution_count": 7,
     "metadata": {},
     "output_type": "execute_result"
    }
   ],
   "source": [
    "calendar.head(2)"
   ]
  },
  {
   "cell_type": "code",
   "execution_count": 8,
   "metadata": {},
   "outputs": [
    {
     "data": {
      "text/html": [
       "<div>\n",
       "<style scoped>\n",
       "    .dataframe tbody tr th:only-of-type {\n",
       "        vertical-align: middle;\n",
       "    }\n",
       "\n",
       "    .dataframe tbody tr th {\n",
       "        vertical-align: top;\n",
       "    }\n",
       "\n",
       "    .dataframe thead th {\n",
       "        text-align: right;\n",
       "    }\n",
       "</style>\n",
       "<table border=\"1\" class=\"dataframe\">\n",
       "  <thead>\n",
       "    <tr style=\"text-align: right;\">\n",
       "      <th></th>\n",
       "      <th>id</th>\n",
       "      <th>F1</th>\n",
       "      <th>F2</th>\n",
       "      <th>F3</th>\n",
       "      <th>F4</th>\n",
       "      <th>F5</th>\n",
       "      <th>F6</th>\n",
       "      <th>F7</th>\n",
       "      <th>F8</th>\n",
       "      <th>F9</th>\n",
       "      <th>...</th>\n",
       "      <th>F19</th>\n",
       "      <th>F20</th>\n",
       "      <th>F21</th>\n",
       "      <th>F22</th>\n",
       "      <th>F23</th>\n",
       "      <th>F24</th>\n",
       "      <th>F25</th>\n",
       "      <th>F26</th>\n",
       "      <th>F27</th>\n",
       "      <th>F28</th>\n",
       "    </tr>\n",
       "  </thead>\n",
       "  <tbody>\n",
       "    <tr>\n",
       "      <th>771118</th>\n",
       "      <td>FOODS_3_826_WI_3_0.995_evaluation</td>\n",
       "      <td>0</td>\n",
       "      <td>0</td>\n",
       "      <td>0</td>\n",
       "      <td>0</td>\n",
       "      <td>0</td>\n",
       "      <td>0</td>\n",
       "      <td>0</td>\n",
       "      <td>0</td>\n",
       "      <td>0</td>\n",
       "      <td>...</td>\n",
       "      <td>0</td>\n",
       "      <td>0</td>\n",
       "      <td>0</td>\n",
       "      <td>0</td>\n",
       "      <td>0</td>\n",
       "      <td>0</td>\n",
       "      <td>0</td>\n",
       "      <td>0</td>\n",
       "      <td>0</td>\n",
       "      <td>0</td>\n",
       "    </tr>\n",
       "    <tr>\n",
       "      <th>771119</th>\n",
       "      <td>FOODS_3_827_WI_3_0.995_evaluation</td>\n",
       "      <td>0</td>\n",
       "      <td>0</td>\n",
       "      <td>0</td>\n",
       "      <td>0</td>\n",
       "      <td>0</td>\n",
       "      <td>0</td>\n",
       "      <td>0</td>\n",
       "      <td>0</td>\n",
       "      <td>0</td>\n",
       "      <td>...</td>\n",
       "      <td>0</td>\n",
       "      <td>0</td>\n",
       "      <td>0</td>\n",
       "      <td>0</td>\n",
       "      <td>0</td>\n",
       "      <td>0</td>\n",
       "      <td>0</td>\n",
       "      <td>0</td>\n",
       "      <td>0</td>\n",
       "      <td>0</td>\n",
       "    </tr>\n",
       "  </tbody>\n",
       "</table>\n",
       "<p>2 rows × 29 columns</p>\n",
       "</div>"
      ],
      "text/plain": [
       "                                       id  F1  F2  F3  F4  F5  F6  F7  F8  F9  \\\n",
       "771118  FOODS_3_826_WI_3_0.995_evaluation   0   0   0   0   0   0   0   0   0   \n",
       "771119  FOODS_3_827_WI_3_0.995_evaluation   0   0   0   0   0   0   0   0   0   \n",
       "\n",
       "        ...  F19  F20  F21  F22  F23  F24  F25  F26  F27  F28  \n",
       "771118  ...    0    0    0    0    0    0    0    0    0    0  \n",
       "771119  ...    0    0    0    0    0    0    0    0    0    0  \n",
       "\n",
       "[2 rows x 29 columns]"
      ]
     },
     "execution_count": 8,
     "metadata": {},
     "output_type": "execute_result"
    }
   ],
   "source": [
    "sample_submission.tail(2)"
   ]
  },
  {
   "cell_type": "code",
   "execution_count": 9,
   "metadata": {},
   "outputs": [
    {
     "data": {
      "text/html": [
       "<div>\n",
       "<style scoped>\n",
       "    .dataframe tbody tr th:only-of-type {\n",
       "        vertical-align: middle;\n",
       "    }\n",
       "\n",
       "    .dataframe tbody tr th {\n",
       "        vertical-align: top;\n",
       "    }\n",
       "\n",
       "    .dataframe thead th {\n",
       "        text-align: right;\n",
       "    }\n",
       "</style>\n",
       "<table border=\"1\" class=\"dataframe\">\n",
       "  <thead>\n",
       "    <tr style=\"text-align: right;\">\n",
       "      <th></th>\n",
       "      <th>store_id</th>\n",
       "      <th>item_id</th>\n",
       "      <th>wm_yr_wk</th>\n",
       "      <th>sell_price</th>\n",
       "    </tr>\n",
       "  </thead>\n",
       "  <tbody>\n",
       "    <tr>\n",
       "      <th>0</th>\n",
       "      <td>CA_1</td>\n",
       "      <td>HOBBIES_1_001</td>\n",
       "      <td>11325</td>\n",
       "      <td>9.58</td>\n",
       "    </tr>\n",
       "    <tr>\n",
       "      <th>1</th>\n",
       "      <td>CA_1</td>\n",
       "      <td>HOBBIES_1_001</td>\n",
       "      <td>11326</td>\n",
       "      <td>9.58</td>\n",
       "    </tr>\n",
       "  </tbody>\n",
       "</table>\n",
       "</div>"
      ],
      "text/plain": [
       "  store_id        item_id  wm_yr_wk  sell_price\n",
       "0     CA_1  HOBBIES_1_001     11325        9.58\n",
       "1     CA_1  HOBBIES_1_001     11326        9.58"
      ]
     },
     "execution_count": 9,
     "metadata": {},
     "output_type": "execute_result"
    }
   ],
   "source": [
    "sell_prices.head(2)"
   ]
  },
  {
   "cell_type": "code",
   "execution_count": 10,
   "metadata": {},
   "outputs": [
    {
     "data": {
      "text/html": [
       "<div>\n",
       "<style scoped>\n",
       "    .dataframe tbody tr th:only-of-type {\n",
       "        vertical-align: middle;\n",
       "    }\n",
       "\n",
       "    .dataframe tbody tr th {\n",
       "        vertical-align: top;\n",
       "    }\n",
       "\n",
       "    .dataframe thead th {\n",
       "        text-align: right;\n",
       "    }\n",
       "</style>\n",
       "<table border=\"1\" class=\"dataframe\">\n",
       "  <thead>\n",
       "    <tr style=\"text-align: right;\">\n",
       "      <th></th>\n",
       "      <th>id</th>\n",
       "      <th>F1</th>\n",
       "      <th>F2</th>\n",
       "      <th>F3</th>\n",
       "      <th>F4</th>\n",
       "      <th>F5</th>\n",
       "      <th>F6</th>\n",
       "      <th>F7</th>\n",
       "      <th>F8</th>\n",
       "      <th>F9</th>\n",
       "      <th>...</th>\n",
       "      <th>F19</th>\n",
       "      <th>F20</th>\n",
       "      <th>F21</th>\n",
       "      <th>F22</th>\n",
       "      <th>F23</th>\n",
       "      <th>F24</th>\n",
       "      <th>F25</th>\n",
       "      <th>F26</th>\n",
       "      <th>F27</th>\n",
       "      <th>F28</th>\n",
       "    </tr>\n",
       "  </thead>\n",
       "  <tbody>\n",
       "    <tr>\n",
       "      <th>771118</th>\n",
       "      <td>FOODS_3_826_WI_3_0.995_evaluation</td>\n",
       "      <td>0</td>\n",
       "      <td>0</td>\n",
       "      <td>0</td>\n",
       "      <td>0</td>\n",
       "      <td>0</td>\n",
       "      <td>0</td>\n",
       "      <td>0</td>\n",
       "      <td>0</td>\n",
       "      <td>0</td>\n",
       "      <td>...</td>\n",
       "      <td>0</td>\n",
       "      <td>0</td>\n",
       "      <td>0</td>\n",
       "      <td>0</td>\n",
       "      <td>0</td>\n",
       "      <td>0</td>\n",
       "      <td>0</td>\n",
       "      <td>0</td>\n",
       "      <td>0</td>\n",
       "      <td>0</td>\n",
       "    </tr>\n",
       "    <tr>\n",
       "      <th>771119</th>\n",
       "      <td>FOODS_3_827_WI_3_0.995_evaluation</td>\n",
       "      <td>0</td>\n",
       "      <td>0</td>\n",
       "      <td>0</td>\n",
       "      <td>0</td>\n",
       "      <td>0</td>\n",
       "      <td>0</td>\n",
       "      <td>0</td>\n",
       "      <td>0</td>\n",
       "      <td>0</td>\n",
       "      <td>...</td>\n",
       "      <td>0</td>\n",
       "      <td>0</td>\n",
       "      <td>0</td>\n",
       "      <td>0</td>\n",
       "      <td>0</td>\n",
       "      <td>0</td>\n",
       "      <td>0</td>\n",
       "      <td>0</td>\n",
       "      <td>0</td>\n",
       "      <td>0</td>\n",
       "    </tr>\n",
       "  </tbody>\n",
       "</table>\n",
       "<p>2 rows × 29 columns</p>\n",
       "</div>"
      ],
      "text/plain": [
       "                                       id  F1  F2  F3  F4  F5  F6  F7  F8  F9  \\\n",
       "771118  FOODS_3_826_WI_3_0.995_evaluation   0   0   0   0   0   0   0   0   0   \n",
       "771119  FOODS_3_827_WI_3_0.995_evaluation   0   0   0   0   0   0   0   0   0   \n",
       "\n",
       "        ...  F19  F20  F21  F22  F23  F24  F25  F26  F27  F28  \n",
       "771118  ...    0    0    0    0    0    0    0    0    0    0  \n",
       "771119  ...    0    0    0    0    0    0    0    0    0    0  \n",
       "\n",
       "[2 rows x 29 columns]"
      ]
     },
     "execution_count": 10,
     "metadata": {},
     "output_type": "execute_result"
    }
   ],
   "source": [
    "sample_submission.tail(2)"
   ]
  },
  {
   "cell_type": "markdown",
   "metadata": {},
   "source": [
    "<a id='EDA'></a>\n",
    "\n",
    "## 4. EDA  -  exploratory Data Analysis"
   ]
  },
  {
   "cell_type": "markdown",
   "metadata": {},
   "source": [
    "Exploratory Data Processing, or EDA, is basically a form of statistician narrative. It helps us to discover correlations and observations inside the results, sometimes through visual methods. <br>\n",
    "This analysis is been performed for retrevivng the most informative feature from the column which can be very useful and can be very understandable for the further coding.\n",
    "\n",
    "Various type of store ids in the sell prices data set."
   ]
  },
  {
   "cell_type": "code",
   "execution_count": 11,
   "metadata": {},
   "outputs": [
    {
     "data": {
      "text/plain": [
       "Text(0.5, 1.0, 'Various types of store ids')"
      ]
     },
     "execution_count": 11,
     "metadata": {},
     "output_type": "execute_result"
    },
    {
     "data": {
      "image/png": "[encoded data removed]",
      "text/plain": [
       "<Figure size 1440x360 with 1 Axes>"
      ]
     },
     "metadata": {
      "needs_background": "light"
     },
     "output_type": "display_data"
    }
   ],
   "source": [
    "sns.countplot(x='store_id', data=sell_prices)\n",
    "plt.title('Various types of store ids')"
   ]
  },
  {
   "cell_type": "markdown",
   "metadata": {},
   "source": [
    "various type of dept ids in the sales train data set."
   ]
  },
  {
   "cell_type": "code",
   "execution_count": 12,
   "metadata": {},
   "outputs": [
    {
     "data": {
      "text/plain": [
       "Text(0.5, 1.0, 'Various types of dept ids')"
      ]
     },
     "execution_count": 12,
     "metadata": {},
     "output_type": "execute_result"
    },
    {
     "data": {
      "image/png": "[encoded data removed]",
      "text/plain": [
       "<Figure size 1440x360 with 1 Axes>"
      ]
     },
     "metadata": {
      "needs_background": "light"
     },
     "output_type": "display_data"
    }
   ],
   "source": [
    "sns.countplot(x='dept_id', data=sales_train_validation)\n",
    "plt.title('Various types of dept ids')"
   ]
  },
  {
   "cell_type": "markdown",
   "metadata": {},
   "source": [
    "various type of state ids in the sales train data set."
   ]
  },
  {
   "cell_type": "code",
   "execution_count": 13,
   "metadata": {},
   "outputs": [
    {
     "data": {
      "text/plain": [
       "Text(0.5, 1.0, 'Various types of state ids')"
      ]
     },
     "execution_count": 13,
     "metadata": {},
     "output_type": "execute_result"
    },
    {
     "data": {
      "image/png": "[encoded data removed]",
      "text/plain": [
       "<Figure size 1440x360 with 1 Axes>"
      ]
     },
     "metadata": {
      "needs_background": "light"
     },
     "output_type": "display_data"
    }
   ],
   "source": [
    "sns.countplot(x='state_id', data=sales_train_validation)\n",
    "plt.title('Various types of state ids')"
   ]
  },
  {
   "cell_type": "markdown",
   "metadata": {},
   "source": [
    "No of store ids on the basis of the counts"
   ]
  },
  {
   "cell_type": "code",
   "execution_count": 14,
   "metadata": {},
   "outputs": [
    {
     "data": {
      "text/plain": [
       "Text(0, 0.5, 'counts')"
      ]
     },
     "execution_count": 14,
     "metadata": {},
     "output_type": "execute_result"
    },
    {
     "data": {
      "image/png": "[encoded data removed]",
      "text/plain": [
       "<Figure size 1440x360 with 1 Axes>"
      ]
     },
     "metadata": {
      "needs_background": "light"
     },
     "output_type": "display_data"
    }
   ],
   "source": [
    "fraud_count = sell_prices.store_id.value_counts(normalize = True)\n",
    "fraud_count.plot(kind='bar')\n",
    "plt.title('Couns of store ids')\n",
    "plt.xlabel('store_id')\n",
    "plt.ylabel('counts')"
   ]
  },
  {
   "cell_type": "markdown",
   "metadata": {},
   "source": [
    "## visualising one of the feature of the calendar that is state"
   ]
  },
  {
   "cell_type": "code",
   "execution_count": 15,
   "metadata": {},
   "outputs": [
    {
     "data": {
      "text/plain": [
       "Text(0.5, 1.0, 'variants of snap_CA')"
      ]
     },
     "execution_count": 15,
     "metadata": {},
     "output_type": "execute_result"
    },
    {
     "data": {
      "image/png": "[encoded data removed]",
      "text/plain": [
       "<Figure size 1440x360 with 1 Axes>"
      ]
     },
     "metadata": {
      "needs_background": "light"
     },
     "output_type": "display_data"
    }
   ],
   "source": [
    "sns.countplot(x='snap_CA', data=calendar)\n",
    "plt.title('variants of snap_CA')"
   ]
  },
  {
   "cell_type": "markdown",
   "metadata": {},
   "source": [
    "Getting count of TX and WI from the calendar table."
   ]
  },
  {
   "cell_type": "code",
   "execution_count": 16,
   "metadata": {},
   "outputs": [
    {
     "data": {
      "text/plain": [
       "Text(0, 0.5, 'Count')"
      ]
     },
     "execution_count": 16,
     "metadata": {},
     "output_type": "execute_result"
    },
    {
     "data": {
      "image/png": "[encoded data removed]",
      "text/plain": [
       "<Figure size 1440x360 with 1 Axes>"
      ]
     },
     "metadata": {
      "needs_background": "light"
     },
     "output_type": "display_data"
    }
   ],
   "source": [
    "pd.crosstab(calendar.snap_TX,calendar.snap_WI).plot(kind='bar')\n",
    "plt.title('No of snap_TX and no of snap_WI')\n",
    "plt.ylabel(\"Count\")"
   ]
  },
  {
   "cell_type": "markdown",
   "metadata": {},
   "source": [
    "<a id='cal'></a>\n",
    "\n",
    "## 5. Calendar table preprocessing\n",
    "* in this table, we will only choose the numeric columns as our traning features;\n",
    "* a copy of the table will be created for manipulation, the orignal table will keep without touch as the propotype in case of futher analysis;\n",
    "* normalise the numbers."
   ]
  },
  {
   "cell_type": "markdown",
   "metadata": {},
   "source": [
    "###### There are five features that can be predicated by the column days differently"
   ]
  },
  {
   "cell_type": "code",
   "execution_count": 17,
   "metadata": {},
   "outputs": [
    {
     "name": "stdout",
     "output_type": "stream",
     "text": [
      "(1969, 5)\n"
     ]
    },
    {
     "data": {
      "text/html": [
       "<div>\n",
       "<style scoped>\n",
       "    .dataframe tbody tr th:only-of-type {\n",
       "        vertical-align: middle;\n",
       "    }\n",
       "\n",
       "    .dataframe tbody tr th {\n",
       "        vertical-align: top;\n",
       "    }\n",
       "\n",
       "    .dataframe thead th {\n",
       "        text-align: right;\n",
       "    }\n",
       "</style>\n",
       "<table border=\"1\" class=\"dataframe\">\n",
       "  <thead>\n",
       "    <tr style=\"text-align: right;\">\n",
       "      <th></th>\n",
       "      <th>wday</th>\n",
       "      <th>month</th>\n",
       "      <th>snap_CA</th>\n",
       "      <th>snap_TX</th>\n",
       "      <th>snap_WI</th>\n",
       "    </tr>\n",
       "  </thead>\n",
       "  <tbody>\n",
       "    <tr>\n",
       "      <th>0</th>\n",
       "      <td>0.000000</td>\n",
       "      <td>0.0</td>\n",
       "      <td>0.0</td>\n",
       "      <td>0.0</td>\n",
       "      <td>0.0</td>\n",
       "    </tr>\n",
       "    <tr>\n",
       "      <th>1</th>\n",
       "      <td>0.166667</td>\n",
       "      <td>0.0</td>\n",
       "      <td>0.0</td>\n",
       "      <td>0.0</td>\n",
       "      <td>0.0</td>\n",
       "    </tr>\n",
       "  </tbody>\n",
       "</table>\n",
       "</div>"
      ],
      "text/plain": [
       "       wday  month  snap_CA  snap_TX  snap_WI\n",
       "0  0.000000    0.0      0.0      0.0      0.0\n",
       "1  0.166667    0.0      0.0      0.0      0.0"
      ]
     },
     "execution_count": 17,
     "metadata": {},
     "output_type": "execute_result"
    }
   ],
   "source": [
    "scaler = MinMaxScaler()\n",
    "calendar_features = ['wday', 'month', 'snap_CA', 'snap_TX', 'snap_WI']\n",
    "calendar_copy = calendar.copy()[calendar_features]\n",
    "calendar_copy.iloc[0:1913,:] = scaler.fit_transform(calendar_copy.iloc[0:1913,:])\n",
    "calendar_copy.iloc[1913:,] = scaler.transform(calendar_copy.iloc[1913:,])\n",
    "print(calendar_copy.shape)\n",
    "calendar_copy.head(2)"
   ]
  },
  {
   "cell_type": "markdown",
   "metadata": {},
   "source": [
    "  <a id='sel'></a>\n",
    "# 6. sales_train_validation table preprocessing\n",
    "* Seperate numeric columns and object columns since only numeric columns will be used as traning features while object columns in this table will be used for different level of aggregations;\n",
    "* To simplify the numeric columns, we change the name of columns to numbers (0~1912), represent day 1~1913;\n",
    "* We add 56 columns to represent the 56 predcit days, so there will be 1969 numeric colums （days)."
   ]
  },
  {
   "cell_type": "code",
   "execution_count": 18,
   "metadata": {},
   "outputs": [
    {
     "name": "stdout",
     "output_type": "stream",
     "text": [
      "(30490, 1975)\n"
     ]
    },
    {
     "data": {
      "text/html": [
       "<div>\n",
       "<style scoped>\n",
       "    .dataframe tbody tr th:only-of-type {\n",
       "        vertical-align: middle;\n",
       "    }\n",
       "\n",
       "    .dataframe tbody tr th {\n",
       "        vertical-align: top;\n",
       "    }\n",
       "\n",
       "    .dataframe thead th {\n",
       "        text-align: right;\n",
       "    }\n",
       "</style>\n",
       "<table border=\"1\" class=\"dataframe\">\n",
       "  <thead>\n",
       "    <tr style=\"text-align: right;\">\n",
       "      <th></th>\n",
       "      <th>id</th>\n",
       "      <th>item_id</th>\n",
       "      <th>dept_id</th>\n",
       "      <th>cat_id</th>\n",
       "      <th>store_id</th>\n",
       "      <th>state_id</th>\n",
       "      <th>0</th>\n",
       "      <th>1</th>\n",
       "      <th>2</th>\n",
       "      <th>3</th>\n",
       "      <th>...</th>\n",
       "      <th>1959</th>\n",
       "      <th>1960</th>\n",
       "      <th>1961</th>\n",
       "      <th>1962</th>\n",
       "      <th>1963</th>\n",
       "      <th>1964</th>\n",
       "      <th>1965</th>\n",
       "      <th>1966</th>\n",
       "      <th>1967</th>\n",
       "      <th>1968</th>\n",
       "    </tr>\n",
       "  </thead>\n",
       "  <tbody>\n",
       "    <tr>\n",
       "      <th>0</th>\n",
       "      <td>HOBBIES_1_001_CA_1_validation</td>\n",
       "      <td>HOBBIES_1_001</td>\n",
       "      <td>HOBBIES_1</td>\n",
       "      <td>HOBBIES</td>\n",
       "      <td>CA_1</td>\n",
       "      <td>CA</td>\n",
       "      <td>0</td>\n",
       "      <td>0</td>\n",
       "      <td>0</td>\n",
       "      <td>0</td>\n",
       "      <td>...</td>\n",
       "      <td>0</td>\n",
       "      <td>0</td>\n",
       "      <td>0</td>\n",
       "      <td>0</td>\n",
       "      <td>0</td>\n",
       "      <td>0</td>\n",
       "      <td>0</td>\n",
       "      <td>0</td>\n",
       "      <td>0</td>\n",
       "      <td>0</td>\n",
       "    </tr>\n",
       "    <tr>\n",
       "      <th>1</th>\n",
       "      <td>HOBBIES_1_002_CA_1_validation</td>\n",
       "      <td>HOBBIES_1_002</td>\n",
       "      <td>HOBBIES_1</td>\n",
       "      <td>HOBBIES</td>\n",
       "      <td>CA_1</td>\n",
       "      <td>CA</td>\n",
       "      <td>0</td>\n",
       "      <td>0</td>\n",
       "      <td>0</td>\n",
       "      <td>0</td>\n",
       "      <td>...</td>\n",
       "      <td>0</td>\n",
       "      <td>0</td>\n",
       "      <td>0</td>\n",
       "      <td>0</td>\n",
       "      <td>0</td>\n",
       "      <td>0</td>\n",
       "      <td>0</td>\n",
       "      <td>0</td>\n",
       "      <td>0</td>\n",
       "      <td>0</td>\n",
       "    </tr>\n",
       "    <tr>\n",
       "      <th>2</th>\n",
       "      <td>HOBBIES_1_003_CA_1_validation</td>\n",
       "      <td>HOBBIES_1_003</td>\n",
       "      <td>HOBBIES_1</td>\n",
       "      <td>HOBBIES</td>\n",
       "      <td>CA_1</td>\n",
       "      <td>CA</td>\n",
       "      <td>0</td>\n",
       "      <td>0</td>\n",
       "      <td>0</td>\n",
       "      <td>0</td>\n",
       "      <td>...</td>\n",
       "      <td>0</td>\n",
       "      <td>0</td>\n",
       "      <td>0</td>\n",
       "      <td>0</td>\n",
       "      <td>0</td>\n",
       "      <td>0</td>\n",
       "      <td>0</td>\n",
       "      <td>0</td>\n",
       "      <td>0</td>\n",
       "      <td>0</td>\n",
       "    </tr>\n",
       "  </tbody>\n",
       "</table>\n",
       "<p>3 rows × 1975 columns</p>\n",
       "</div>"
      ],
      "text/plain": [
       "                              id        item_id    dept_id   cat_id store_id  \\\n",
       "0  HOBBIES_1_001_CA_1_validation  HOBBIES_1_001  HOBBIES_1  HOBBIES     CA_1   \n",
       "1  HOBBIES_1_002_CA_1_validation  HOBBIES_1_002  HOBBIES_1  HOBBIES     CA_1   \n",
       "2  HOBBIES_1_003_CA_1_validation  HOBBIES_1_003  HOBBIES_1  HOBBIES     CA_1   \n",
       "\n",
       "  state_id  0  1  2  3  ...  1959  1960  1961  1962  1963  1964  1965  1966  \\\n",
       "0       CA  0  0  0  0  ...     0     0     0     0     0     0     0     0   \n",
       "1       CA  0  0  0  0  ...     0     0     0     0     0     0     0     0   \n",
       "2       CA  0  0  0  0  ...     0     0     0     0     0     0     0     0   \n",
       "\n",
       "   1967  1968  \n",
       "0     0     0  \n",
       "1     0     0  \n",
       "2     0     0  \n",
       "\n",
       "[3 rows x 1975 columns]"
      ]
     },
     "execution_count": 18,
     "metadata": {},
     "output_type": "execute_result"
    }
   ],
   "source": [
    "column_days = [d for d in sales_train_validation.columns if d.startswith('d_')]\n",
    "column_ids = [d for d in sales_train_validation.columns if not d.startswith('d_')]\n",
    "dict_days = {k:v for k, v in zip(column_days, range(1913))}\n",
    "#stv_table = sales_train_validation.copy()\n",
    "sales_train_validation.rename(columns= dict_days, inplace=True)\n",
    "for i in range(1913, calendar.shape[0]):\n",
    "    sales_train_validation[i] = 0\n",
    "print(sales_train_validation.shape)\n",
    "sales_train_validation.head(3)"
   ]
  },
  {
   "cell_type": "markdown",
   "metadata": {},
   "source": [
    "  <a id='sellpriceprocess'></a>\n",
    "# 7.  sell_price table processing"
   ]
  },
  {
   "cell_type": "markdown",
   "metadata": {},
   "source": [
    "let's process the sell_price table:\n",
    "* The first thing we need to do is change weekly based table to daily based table\n",
    "The sell_price table is weekly based, any item's price is the same in the 7 days in a given week. What't we need to do here is try to convert weekly table to daily. The simplest way to do this transition it just copy the table 7 times.\n",
    "\n",
    "* Secondly, we try to transform the table format or pattern to the same as sales_train_validation, so that we can do the same groupby or aggregation operation.\n",
    "here we use pandas pivot_table and transpose to change the table pattern. notice that sales_train_validation only have 1969 days' record. Accordingly, the sell_prices table will only keep 1969 days' prices."
   ]
  },
  {
   "cell_type": "code",
   "execution_count": 19,
   "metadata": {},
   "outputs": [
    {
     "name": "stdout",
     "output_type": "stream",
     "text": [
      "(30490, 1970)\n"
     ]
    },
    {
     "data": {
      "text/html": [
       "<div>\n",
       "<style scoped>\n",
       "    .dataframe tbody tr th:only-of-type {\n",
       "        vertical-align: middle;\n",
       "    }\n",
       "\n",
       "    .dataframe tbody tr th {\n",
       "        vertical-align: top;\n",
       "    }\n",
       "\n",
       "    .dataframe thead th {\n",
       "        text-align: right;\n",
       "    }\n",
       "</style>\n",
       "<table border=\"1\" class=\"dataframe\">\n",
       "  <thead>\n",
       "    <tr style=\"text-align: right;\">\n",
       "      <th></th>\n",
       "      <th>id</th>\n",
       "      <th>0</th>\n",
       "      <th>1</th>\n",
       "      <th>2</th>\n",
       "      <th>3</th>\n",
       "      <th>4</th>\n",
       "      <th>5</th>\n",
       "      <th>6</th>\n",
       "      <th>7</th>\n",
       "      <th>8</th>\n",
       "      <th>...</th>\n",
       "      <th>1959</th>\n",
       "      <th>1960</th>\n",
       "      <th>1961</th>\n",
       "      <th>1962</th>\n",
       "      <th>1963</th>\n",
       "      <th>1964</th>\n",
       "      <th>1965</th>\n",
       "      <th>1966</th>\n",
       "      <th>1967</th>\n",
       "      <th>1968</th>\n",
       "    </tr>\n",
       "  </thead>\n",
       "  <tbody>\n",
       "    <tr>\n",
       "      <th>0</th>\n",
       "      <td>HOBBIES_1_001_CA_1_validation</td>\n",
       "      <td>0.0</td>\n",
       "      <td>0.0</td>\n",
       "      <td>0.0</td>\n",
       "      <td>0.0</td>\n",
       "      <td>0.0</td>\n",
       "      <td>0.0</td>\n",
       "      <td>0.0</td>\n",
       "      <td>0.0</td>\n",
       "      <td>0.0</td>\n",
       "      <td>...</td>\n",
       "      <td>8.38</td>\n",
       "      <td>8.38</td>\n",
       "      <td>8.38</td>\n",
       "      <td>8.38</td>\n",
       "      <td>8.38</td>\n",
       "      <td>8.38</td>\n",
       "      <td>8.38</td>\n",
       "      <td>8.38</td>\n",
       "      <td>8.38</td>\n",
       "      <td>8.38</td>\n",
       "    </tr>\n",
       "    <tr>\n",
       "      <th>1</th>\n",
       "      <td>HOBBIES_1_002_CA_1_validation</td>\n",
       "      <td>0.0</td>\n",
       "      <td>0.0</td>\n",
       "      <td>0.0</td>\n",
       "      <td>0.0</td>\n",
       "      <td>0.0</td>\n",
       "      <td>0.0</td>\n",
       "      <td>0.0</td>\n",
       "      <td>0.0</td>\n",
       "      <td>0.0</td>\n",
       "      <td>...</td>\n",
       "      <td>3.97</td>\n",
       "      <td>3.97</td>\n",
       "      <td>3.97</td>\n",
       "      <td>3.97</td>\n",
       "      <td>3.97</td>\n",
       "      <td>3.97</td>\n",
       "      <td>3.97</td>\n",
       "      <td>3.97</td>\n",
       "      <td>3.97</td>\n",
       "      <td>3.97</td>\n",
       "    </tr>\n",
       "  </tbody>\n",
       "</table>\n",
       "<p>2 rows × 1970 columns</p>\n",
       "</div>"
      ],
      "text/plain": [
       "                              id    0    1    2    3    4    5    6    7    8  \\\n",
       "0  HOBBIES_1_001_CA_1_validation  0.0  0.0  0.0  0.0  0.0  0.0  0.0  0.0  0.0   \n",
       "1  HOBBIES_1_002_CA_1_validation  0.0  0.0  0.0  0.0  0.0  0.0  0.0  0.0  0.0   \n",
       "\n",
       "   ...  1959  1960  1961  1962  1963  1964  1965  1966  1967  1968  \n",
       "0  ...  8.38  8.38  8.38  8.38  8.38  8.38  8.38  8.38  8.38  8.38  \n",
       "1  ...  3.97  3.97  3.97  3.97  3.97  3.97  3.97  3.97  3.97  3.97  \n",
       "\n",
       "[2 rows x 1970 columns]"
      ]
     },
     "execution_count": 19,
     "metadata": {},
     "output_type": "execute_result"
    }
   ],
   "source": [
    "sell_prices['id'] = sell_prices.item_id + '_' + sell_prices.store_id  + '_validation'\n",
    "sell_prices = sell_prices.pivot_table(index='wm_yr_wk', columns='id', values='sell_price')\n",
    "\n",
    "#fill NaN with 0\n",
    "sell_prices.fillna(0, inplace=True)\n",
    "#change weely data to daily\n",
    "sell_prices = pd.concat([sell_prices] * 7).sort_index()       ##---------------->Processing 7 times\n",
    "# replace index as numbers from 0, keep index simple\n",
    "sell_prices.index = range(len(sell_prices))\n",
    "# only reserve 1969 days records\n",
    "sell_prices.drop(index=range(1969,len(sell_prices)), inplace=True)\n",
    "\n",
    "# resort the colomns index to match the sell_prices table\n",
    "sell_prices = sell_prices[sales_train_validation.id]\n",
    "#transpose sell_prices table, to be the same shape of sales_train_validation\n",
    "sell_prices = sell_prices.transpose()\n",
    "sell_prices.reset_index(inplace=True)\n",
    "print(sell_prices.shape)\n",
    "sell_prices.head(2)"
   ]
  },
  {
   "cell_type": "markdown",
   "metadata": {},
   "source": [
    "* Thirdly, we add same columns that sales_train_validation has. "
   ]
  },
  {
   "cell_type": "code",
   "execution_count": 20,
   "metadata": {},
   "outputs": [
    {
     "name": "stdout",
     "output_type": "stream",
     "text": [
      "(30490, 1975)\n"
     ]
    },
    {
     "data": {
      "text/html": [
       "<div>\n",
       "<style scoped>\n",
       "    .dataframe tbody tr th:only-of-type {\n",
       "        vertical-align: middle;\n",
       "    }\n",
       "\n",
       "    .dataframe tbody tr th {\n",
       "        vertical-align: top;\n",
       "    }\n",
       "\n",
       "    .dataframe thead th {\n",
       "        text-align: right;\n",
       "    }\n",
       "</style>\n",
       "<table border=\"1\" class=\"dataframe\">\n",
       "  <thead>\n",
       "    <tr style=\"text-align: right;\">\n",
       "      <th></th>\n",
       "      <th>id</th>\n",
       "      <th>item_id</th>\n",
       "      <th>dept_id</th>\n",
       "      <th>cat_id</th>\n",
       "      <th>store_id</th>\n",
       "      <th>state_id</th>\n",
       "      <th>0</th>\n",
       "      <th>1</th>\n",
       "      <th>2</th>\n",
       "      <th>3</th>\n",
       "      <th>...</th>\n",
       "      <th>1959</th>\n",
       "      <th>1960</th>\n",
       "      <th>1961</th>\n",
       "      <th>1962</th>\n",
       "      <th>1963</th>\n",
       "      <th>1964</th>\n",
       "      <th>1965</th>\n",
       "      <th>1966</th>\n",
       "      <th>1967</th>\n",
       "      <th>1968</th>\n",
       "    </tr>\n",
       "  </thead>\n",
       "  <tbody>\n",
       "    <tr>\n",
       "      <th>0</th>\n",
       "      <td>HOBBIES_1_001_CA_1_validation</td>\n",
       "      <td>HOBBIES_1_001</td>\n",
       "      <td>HOBBIES_1</td>\n",
       "      <td>HOBBIES</td>\n",
       "      <td>CA_1</td>\n",
       "      <td>CA</td>\n",
       "      <td>0.0</td>\n",
       "      <td>0.0</td>\n",
       "      <td>0.0</td>\n",
       "      <td>0.0</td>\n",
       "      <td>...</td>\n",
       "      <td>8.38</td>\n",
       "      <td>8.38</td>\n",
       "      <td>8.38</td>\n",
       "      <td>8.38</td>\n",
       "      <td>8.38</td>\n",
       "      <td>8.38</td>\n",
       "      <td>8.38</td>\n",
       "      <td>8.38</td>\n",
       "      <td>8.38</td>\n",
       "      <td>8.38</td>\n",
       "    </tr>\n",
       "    <tr>\n",
       "      <th>1</th>\n",
       "      <td>HOBBIES_1_002_CA_1_validation</td>\n",
       "      <td>HOBBIES_1_002</td>\n",
       "      <td>HOBBIES_1</td>\n",
       "      <td>HOBBIES</td>\n",
       "      <td>CA_1</td>\n",
       "      <td>CA</td>\n",
       "      <td>0.0</td>\n",
       "      <td>0.0</td>\n",
       "      <td>0.0</td>\n",
       "      <td>0.0</td>\n",
       "      <td>...</td>\n",
       "      <td>3.97</td>\n",
       "      <td>3.97</td>\n",
       "      <td>3.97</td>\n",
       "      <td>3.97</td>\n",
       "      <td>3.97</td>\n",
       "      <td>3.97</td>\n",
       "      <td>3.97</td>\n",
       "      <td>3.97</td>\n",
       "      <td>3.97</td>\n",
       "      <td>3.97</td>\n",
       "    </tr>\n",
       "  </tbody>\n",
       "</table>\n",
       "<p>2 rows × 1975 columns</p>\n",
       "</div>"
      ],
      "text/plain": [
       "                              id        item_id    dept_id   cat_id store_id  \\\n",
       "0  HOBBIES_1_001_CA_1_validation  HOBBIES_1_001  HOBBIES_1  HOBBIES     CA_1   \n",
       "1  HOBBIES_1_002_CA_1_validation  HOBBIES_1_002  HOBBIES_1  HOBBIES     CA_1   \n",
       "\n",
       "  state_id    0    1    2    3  ...  1959  1960  1961  1962  1963  1964  1965  \\\n",
       "0       CA  0.0  0.0  0.0  0.0  ...  8.38  8.38  8.38  8.38  8.38  8.38  8.38   \n",
       "1       CA  0.0  0.0  0.0  0.0  ...  3.97  3.97  3.97  3.97  3.97  3.97  3.97   \n",
       "\n",
       "   1966  1967  1968  \n",
       "0  8.38  8.38  8.38  \n",
       "1  3.97  3.97  3.97  \n",
       "\n",
       "[2 rows x 1975 columns]"
      ]
     },
     "execution_count": 20,
     "metadata": {},
     "output_type": "execute_result"
    }
   ],
   "source": [
    "'''generate item_id\tdept_id\tcat_id\tstore_id\tstate_id\t#\n",
    "notice that on the previous step, the  sell_prices.id == sales_train_validation.id, so we can just copy all the colums in column_ids\n",
    "sell_prices['item_id'] = sales_train_validation.item_id\n",
    "sell_prices['dept_id'] = sales_train_validation.dept_id\n",
    "sell_prices['store_id'] ...'''\n",
    "\n",
    "sell_prices = sell_prices.merge(right=sales_train_validation[column_ids], on='id')\n",
    "sell_prices = sell_prices[column_ids + list(range(1969))]\n",
    "print(sell_prices.shape)\n",
    "sell_prices.head(2)"
   ]
  },
  {
   "cell_type": "markdown",
   "metadata": {},
   "source": [
    "*** Now, the sell_prices table has exactly the same size and same pattern as sales_train_validation. We finish the preprocessing of sell_prices table.\n",
    "*** Next "
   ]
  },
  {
   "cell_type": "markdown",
   "metadata": {},
   "source": [
    "# sample_submission preprocessing"
   ]
  },
  {
   "cell_type": "code",
   "execution_count": 21,
   "metadata": {},
   "outputs": [],
   "source": [
    "sample_submission = sample_submission.set_index('id').astype('float') #-------------. Converting into Float"
   ]
  },
  {
   "cell_type": "markdown",
   "metadata": {},
   "source": [
    "<a id='Algorithms'></a>\n",
    "\n",
    "# 8. Model Building & Computing\n",
    "1. First, we will try to compare several different algorithms to find the best alogorithm as well as the parameters.\n",
    "2. In order to compare, we write a function to aggregate all algorithms;\n",
    "3. multiprocess is used to accelerate the validation process.\n",
    "4. we will only try to predict 1000 items at level 12 aggregation (aggregate with 'id') and computing the MSE (mean_squared_error) to figure out which alogorithm is and what the best parameters are."
   ]
  },
  {
   "cell_type": "code",
   "execution_count": 22,
   "metadata": {},
   "outputs": [],
   "source": [
    "from sklearn import svm\n",
    "#from xgboost import XGBRegressor\n",
    "\n",
    "def Algorithm (algorithm, X_train, y_train, X_test, **kw):\n",
    "    \n",
    "    def KNR(X_train, y_train, X_test, n_neighbors, weights):\n",
    "        model = KNeighborsRegressor(n_neighbors, weights)\n",
    "        model.fit(X_train,y_train)\n",
    "        return model.predict(X_test)\n",
    "\n",
    "    def RFR(X_train, y_train, X_test, n_estimators=100):\n",
    "        model = RandomForestRegressor(n_estimators=100)\n",
    "        model.fit(X_train, y_train)\n",
    "        return model.predict(X_test)\n",
    "    \n",
    "    def SVR(X_train, y_train, X_test, kernel='linear'):\n",
    "        model = svm.SVR(kernel=kernel)\n",
    "        model.fit(X_train, y_train)\n",
    "        return model.predict(X_test)\n",
    "    \n",
    "#     def XGBR(X_train, y_train, X_test, n_estimators=500):\n",
    "#         model = XGBRegressor(n_estimators=500)\n",
    "#         model.fit(X_train, y_train)\n",
    "#         return model.predict(X_test)\n",
    "\n",
    "\n",
    "    if algorithm == 'KNeighborsRegressor':\n",
    "        if 'n_neighbors' in kw:\n",
    "            n_neighbors = kw['n_neighbors']\n",
    "        else:\n",
    "            n_neighbors = 5\n",
    "        if 'weights' in kw:\n",
    "            weights = kw['weights']\n",
    "        else:\n",
    "            weights = 'uniform'\n",
    "        return KNR(X_train, y_train, X_test, n_neighbors, weights)\n",
    "    \n",
    "    elif algorithm == 'RandomForestRegressor':\n",
    "        return RFR(X_train, y_train, X_test)\n",
    "    \n",
    "    elif algorithm == 'SVR':\n",
    "        return SVR(X_train, y_train, X_test)\n",
    "    \n",
    "    else:\n",
    "        return ValueError(\"input wrong algorithm name\")\n",
    "#     if algorithm == 'XGBRegressor':\n",
    "#         return XGBR(X_train, y_train, X_test)\n"
   ]
  },
  {
   "cell_type": "markdown",
   "metadata": {},
   "source": [
    "The following function willl generate X_train, X_test, y_train and y_test: \n",
    "* X_train and X_test will be the shape of (n_samples, n_features). \"samples\" will be the training days, and \"features\" will be get from calendar and sell_prices.\n",
    "* Notice here the shape of y_train and y_test will be (n_samples, n_items), this is not suitable for any Algorithm, so we need to do more before traning. However, here we just get the entire table."
   ]
  },
  {
   "cell_type": "code",
   "execution_count": 23,
   "metadata": {},
   "outputs": [],
   "source": [
    "def traning_data_generate(level, TRAIN_LEN=1913):\n",
    "    #extract training data from sell_prices, include \"TRAIN_LEN\" samples and n features \n",
    "    #extract training data from sales_train_validation: y_train\n",
    "    # different level has different aggregation policy\n",
    "    if level == 1:\n",
    "        stv_level = pd.DataFrame(sales_train_validation.sum(numeric_only=True))\n",
    "        sp_level = pd.DataFrame(sell_prices.sum(numeric_only=True))\n",
    "        \n",
    "    else:\n",
    "        mapping = level_groupby[level]\n",
    "        stv_level = sales_train_validation.groupby(by=mapping).sum(numeric_only=True)\n",
    "        sp_level = sell_prices.groupby(by=mapping).sum(numeric_only=True)  \n",
    "        #traspose the sell_prices table (n_features, n_samples) to (n_samples, n_features)\n",
    "        stv_level = stv_level.T\n",
    "        sp_level = sp_level.T\n",
    "    \n",
    "    X_train = sp_level.iloc[0:TRAIN_LEN]\n",
    "    X_test = sp_level.iloc[TRAIN_LEN:TRAIN_LEN+DAY]\n",
    "\n",
    "    #traspose the sales_train_validation table (n_features, n_samples) to (n_samples, n_features)   \n",
    "    y_train = stv_level.iloc[0:TRAIN_LEN]\n",
    "    y_test = stv_level.iloc[TRAIN_LEN:TRAIN_LEN+DAY]\n",
    "    \n",
    "    return X_train, X_test, y_train, y_test"
   ]
  },
  {
   "cell_type": "markdown",
   "metadata": {},
   "source": [
    "The \"computing_fuc\" function is used to generate y_predict, wich is the exact number of sales for items:\n",
    "* this function will feed for multi-process, the iterable varible is \"times\", which is used for seperating items into several parts (the number of parts equals the cpu cores). In this way, one process per core, will utilise the cpu most.\n",
    "* in order to be abstract, we add keyword parameters to adapt different algorithms.\n",
    "* every \"item\" will be predicted (56 days) seperately and then merge into a dataframe"
   ]
  },
  {
   "cell_type": "code",
   "execution_count": 24,
   "metadata": {},
   "outputs": [],
   "source": [
    "def computing_fuc(times, algorithm, **kw):\n",
    "    frame = pd.DataFrame(index=range(DAY))\n",
    "\n",
    "    # train and predict every item of all 56 days seperately\n",
    "    for column in  y_train.columns[multi_index[times]]      :\n",
    "        #concat the traning data from calendar and sell_prices\n",
    "        X_train_column = np.c_[X_train[column].values, cld_train_array]\n",
    "        X_test_column = np.c_[X_test[column].values, cld_test_array]\n",
    "        \n",
    "        frame[column] = Algorithm(algorithm, X_train_column, y_train[column].values, X_test_column, **kw)\n",
    "\n",
    "    return frame"
   ]
  },
  {
   "cell_type": "markdown",
   "metadata": {},
   "source": [
    "<a id='AlgorithmComparison'></a>\n",
    "### 8.2.  Algorithm Comparison\n",
    "* First, let's do a simple test to validate the accuracy of different regressors, thus we can dicide which algorithm will perform better in the datasets. The comparable algorithms are \"Random Forest\", \"KNN\", \"SVR\".\n",
    "* Regarding KNN, we test different parameters."
   ]
  },
  {
   "cell_type": "code",
   "execution_count": 25,
   "metadata": {},
   "outputs": [],
   "source": [
    "import multiprocessing as mp\n",
    "from sklearn.metrics import mean_squared_error\n",
    "from functools import partial\n",
    "\n",
    "DAY = 56\n",
    "# all the id information stored in a dict\n",
    "info_dict = {k:sales_train_validation[k].unique() for k in sales_train_validation.columns[0:6]}\n",
    "\n",
    "level_groupby = {12: 'id',\n",
    "                 11: ['state_id','item_id'], \n",
    "                 10: 'item_id',\n",
    "                 9: ['store_id', 'dept_id'],\n",
    "                 8: ['store_id', 'cat_id'],\n",
    "                 7: ['state_id', 'dept_id'],\n",
    "                 6: ['state_id', 'cat_id'],\n",
    "                 5: 'dept_id',\n",
    "                 4: 'cat_id',\n",
    "                 3: 'store_id',\n",
    "                 2: 'state_id',\n",
    "                 1: None\n",
    "                }\n",
    "\n",
    "func_KNN_uniform_n3 = partial(computing_fuc, algorithm='KNeighborsRegressor', n_neighbors=3, weights='uniform')\n",
    "func_KNN_uniform_n5 = partial(computing_fuc, algorithm='KNeighborsRegressor', n_neighbors=5, weights='uniform')\n",
    "func_KNN_distance_n3 = partial(computing_fuc, algorithm='KNeighborsRegressor', n_neighbors=3, weights='distance')\n",
    "func_KNN_distance_n5 = partial(computing_fuc, algorithm='KNeighborsRegressor', n_neighbors=5, weights='distance')\n",
    "func_SVR = partial(computing_fuc, algorithm='SVR')\n",
    "func_RFR = partial(computing_fuc, algorithm='RandomForestRegressor')\n",
    "#func_XGBR = partial(computing_fuc, algorithm='XGBRegressor')\n",
    "\n",
    "func_dict = {\n",
    "    'KNN_uniform_n3':func_KNN_uniform_n3, \n",
    "    'KNN_uniform_n5':func_KNN_uniform_n5, \n",
    "    'KNN_distance_n3': func_KNN_distance_n3,\n",
    "    'KNN_distance_n5': func_KNN_distance_n5,\n",
    "    'RandomForestRegressor': func_RFR,\n",
    "    'SVR': func_SVR,\n",
    "    #'XGBRegressor': func_XGBR  \n",
    "}\n",
    "\n",
    "cpu_cores = mp.cpu_count()\n",
    "TRAIN_LEN = 1913-56\n",
    "times = list(range(cpu_cores))\n",
    "level = 12\n",
    "total_len = 1000\n",
    "multi_index = [range(round(time* total_len / cpu_cores), round((time + 1)* total_len / cpu_cores)) for time in times]\n",
    "# multi_index = [list(range(split_len)), list(range(split_len, split_len * 2)), \n",
    "#                    list(range(split_len * 2, split_len * 3)), list(range(split_len * 3,total_len))]\n",
    "list_mse_score = {}\n",
    "\n",
    "\n",
    "#extract part of the X_train from calendar table, include \"TRAIN_LEN\" samples and 5 features\n",
    "cld_train_array = calendar_copy.values[0:TRAIN_LEN] \n",
    "#extract part of the X_test from calendar table, include \"DAY\" samples and 5 features\n",
    "cld_test_array = calendar_copy.values[TRAIN_LEN:TRAIN_LEN+DAY]\n",
    "scaler = MinMaxScaler()\n",
    "scaler.fit(cld_train_array)\n",
    "cld_train_array = scaler.transform(cld_train_array)\n",
    "cld_test_array = scaler.transform(cld_test_array)\n",
    "\n",
    "\n",
    "X_train, X_test, y_train, y_test = traning_data_generate(level, TRAIN_LEN)\n",
    "columns=X_train.columns\n",
    "scaler = MinMaxScaler()\n",
    "scaler.fit(X_train)\n",
    "X_train = pd.DataFrame(scaler.transform(X_train), columns=columns)\n",
    "X_test = pd.DataFrame(scaler.transform(X_test), columns=columns)\n"
   ]
  },
  {
   "cell_type": "code",
   "execution_count": 26,
   "metadata": {},
   "outputs": [
    {
     "data": {
      "text/plain": [
       "{'KNN_uniform_n3': 10.46479365079365,\n",
       " 'KNN_uniform_n5': 9.392115714285715,\n",
       " 'KNN_distance_n3': 10.899038351435976,\n",
       " 'KNN_distance_n5': 10.249954531876318,\n",
       " 'RandomForestRegressor': 8.571925854690631,\n",
       " 'SVR': 8.778320990091222}"
      ]
     },
     "execution_count": 26,
     "metadata": {},
     "output_type": "execute_result"
    }
   ],
   "source": [
    "for name, partial_func in func_dict.items():\n",
    "    with mp.Pool(processes=cpu_cores) as pool:\n",
    "        results = pool.map(partial_func, times)\n",
    "        \n",
    "    temp_frame = pd.concat(results, axis=1)\n",
    "    list_mse_score[name] = mean_squared_error(temp_frame.values, y_test[temp_frame.columns].values)\n",
    "\n",
    "list_mse_score"
   ]
  },
  {
   "cell_type": "markdown",
   "metadata": {},
   "source": [
    "### From the result, \n",
    "* For KNeighborsRegressor, it seems that the parameters n_neighbors=3, weights='distance' will get the best result\n",
    "* it seems that SVR with default parameters has the best performance when use the last part (56days) of the existing training data as validation data.\n",
    "\n",
    "# So, in the next steps, we will try to use the SVR with default parameters in the real test.\n",
    "* ### First, we regenerate the training features and samples, notice here the sample length changes to 1913. "
   ]
  },
  {
   "cell_type": "code",
   "execution_count": 27,
   "metadata": {},
   "outputs": [],
   "source": [
    "TRAIN_LEN = 1913\n",
    "\n",
    "#extract part of the X_train from calendar table, include \"TRAIN_LEN\" samples and 5 features\n",
    "cld_train_array = calendar_copy.values[0:TRAIN_LEN] \n",
    "#extract part of the X_test from calendar table, include \"DAY\" samples and 5 features\n",
    "cld_test_array = calendar_copy.values[TRAIN_LEN:TRAIN_LEN+DAY]\n",
    "scaler = MinMaxScaler()\n",
    "scaler.fit(cld_train_array)\n",
    "cld_train_array = scaler.transform(cld_train_array)\n",
    "cld_test_array = scaler.transform(cld_test_array)"
   ]
  },
  {
   "cell_type": "markdown",
   "metadata": {},
   "source": [
    "* # The code below is the core part. It is similar to the comparison code above: use multi-process to accelerate computing.\n",
    "* # The for loop is to put all levels' aggregation together, run regression, and get predict results.\n",
    "* # Since we use multi-process, here we seperate samples into \"cpu_cores\" parts, even if the samples are fewer thant cpu_cores, it is still avaible. The reason is that the list (multi_index) could have [] - empty in it.  \n",
    "* # follow the pattern of \"sample_submission\", we will generate the index of the DataFrame in level order.\n",
    "\n",
    "### The aggregation patterns:\n",
    "* pattern_L12 = '_'.join([item_id, store_id, 'validation'])\n",
    "* pattern_L11 = '_'.join([state_id, item_id, 'validation'])\n",
    "* pattern_L10 = '_'.join([item_id, 'X', 'validation'])\n",
    "* pattern_L9 = '_'.join([store_id, dept_id, 'validation'])\n",
    "* pattern_L8 = '_'.join([store_id, cat_id,  'validation'])\n",
    "* pattern_L7 = '_'.join([state_id, dept_id,  'validation'])\n",
    "* pattern_L6 = '_'.join([state_id, cat_id, 'validation'])\n",
    "* pattern_L5 = '_'.join([dept_id, 'X',  'validation'])\n",
    "* pattern_L4 = '_'.join([cat_id, 'X', 'validation'])\n",
    "* pattern_L3 = '_'.join([store_id, 'X', 'validation'])\n",
    "* pattern_L2 = '_'.join([state_id, 'X','validation'])\n",
    "* pattern_L1 = '_'.join(['Total', 'X', 'validation'])"
   ]
  },
  {
   "cell_type": "markdown",
   "metadata": {},
   "source": [
    "The code is divided into two parts validation and evaluation so we need to separate the implementation into two parts:\n",
    "* In the code below we have separated the frame into the 2 parts;\n",
    "* First frame is for the \"validation\" and second frame is for the \"evaluation\".\n",
    "* ## Just change the name passed to pool.map() will alter to another algorithm."
   ]
  },
  {
   "cell_type": "code",
   "execution_count": 28,
   "metadata": {
    "collapsed": true
   },
   "outputs": [],
   "source": [
    "frame_without_quantile = pd.DataFrame(columns=range(DAY))\n",
    "for level, group in level_groupby.items():\n",
    "    X_train, X_test, y_train, y_test = traning_data_generate(level, TRAIN_LEN)\n",
    "    \n",
    "    columns=X_train.columns\n",
    "    scaler = MinMaxScaler()\n",
    "    scaler.fit(X_train)\n",
    "    X_train = pd.DataFrame(scaler.transform(X_train), columns=columns)\n",
    "    X_test = pd.DataFrame(scaler.transform(X_test), columns=columns)\n",
    "    \n",
    "    total_len = len(y_train.columns)\n",
    "    multi_index = [range(round(time* total_len / cpu_cores), round((time + 1)* total_len / cpu_cores)) for time in times]\n",
    "    \n",
    "    with mp.Pool(processes=cpu_cores) as pool:\n",
    "        #just change the function name in the pool.map(), will run different algorithms\n",
    "        results = pool.map(func_SVR, times)\n",
    "    temp_frame = pd.concat(results, axis=1)\n",
    "    temp_frame = temp_frame.T\n",
    "    if level ==1:\n",
    "        temp_frame.index = ['_'.join(['Total', 'X','validation'])]\n",
    "    elif level != 12:\n",
    "        if len(group) == 2:\n",
    "            temp_frame.index = ['_'.join([level1, level2, 'validation']) for (level1, level2) in temp_frame.index]\n",
    "        else:\n",
    "            temp_frame.index = ['_'.join([level1, 'X', 'validation']) for level1 in temp_frame.index]\n",
    "    frame_without_quantile = frame_without_quantile.append(temp_frame)\n",
    "    "
   ]
  },
  {
   "cell_type": "markdown",
   "metadata": {},
   "source": [
    "<a id='uncertainity'></a>\n",
    "\n",
    "## 9. Here we use the code from kaggle notebook to generate mapping function: map quantiles to coeffcients, we will simplely use the coefficients to calculate the uncertainties.\n",
    "source: https://www.kaggle.com/kneroma/from-point-to-uncertainty-prediction"
   ]
  },
  {
   "cell_type": "code",
   "execution_count": 29,
   "metadata": {},
   "outputs": [
    {
     "data": {
      "text/plain": [
       "0.005    0.731\n",
       "0.025    0.812\n",
       "0.165    0.916\n",
       "0.250    0.943\n",
       "0.500    1.000\n",
       "0.750    1.057\n",
       "0.835    1.084\n",
       "0.975    1.188\n",
       "0.995    1.269\n",
       "dtype: float64"
      ]
     },
     "execution_count": 29,
     "metadata": {},
     "output_type": "execute_result"
    }
   ],
   "source": [
    "QUANTILES = ['0.005', '0.025', '0.165', '0.250', '0.500', '0.750', '0.835', '0.975', '0.995']\n",
    "from scipy.stats import norm\n",
    "qs = np.array(list(map(float, QUANTILES)))\n",
    "qs2 = np.log(qs/(1-qs)) * .065\n",
    "ratios = norm.cdf(qs2)\n",
    "ratios /= ratios[4]\n",
    "ratios = pd.Series(ratios, index=QUANTILES)\n",
    "ratios.round(3)"
   ]
  },
  {
   "cell_type": "markdown",
   "metadata": {},
   "source": [
    "### Use the accurate predict value (mean value) to generate uncertainty - the quantiles. Notice here we predict 56 days."
   ]
  },
  {
   "cell_type": "code",
   "execution_count": 30,
   "metadata": {},
   "outputs": [
    {
     "data": {
      "text/html": [
       "<div>\n",
       "<style scoped>\n",
       "    .dataframe tbody tr th:only-of-type {\n",
       "        vertical-align: middle;\n",
       "    }\n",
       "\n",
       "    .dataframe tbody tr th {\n",
       "        vertical-align: top;\n",
       "    }\n",
       "\n",
       "    .dataframe thead th {\n",
       "        text-align: right;\n",
       "    }\n",
       "</style>\n",
       "<table border=\"1\" class=\"dataframe\">\n",
       "  <thead>\n",
       "    <tr style=\"text-align: right;\">\n",
       "      <th></th>\n",
       "      <th>0</th>\n",
       "      <th>1</th>\n",
       "      <th>2</th>\n",
       "      <th>3</th>\n",
       "      <th>4</th>\n",
       "      <th>5</th>\n",
       "      <th>6</th>\n",
       "      <th>7</th>\n",
       "      <th>8</th>\n",
       "      <th>9</th>\n",
       "      <th>...</th>\n",
       "      <th>46</th>\n",
       "      <th>47</th>\n",
       "      <th>48</th>\n",
       "      <th>49</th>\n",
       "      <th>50</th>\n",
       "      <th>51</th>\n",
       "      <th>52</th>\n",
       "      <th>53</th>\n",
       "      <th>54</th>\n",
       "      <th>55</th>\n",
       "    </tr>\n",
       "  </thead>\n",
       "  <tbody>\n",
       "    <tr>\n",
       "      <th>FOODS_1_001_CA_1_0.005_validation</th>\n",
       "      <td>0.073202</td>\n",
       "      <td>0.073198</td>\n",
       "      <td>0.073194</td>\n",
       "      <td>0.073190</td>\n",
       "      <td>0.073186</td>\n",
       "      <td>0.073210</td>\n",
       "      <td>0.072951</td>\n",
       "      <td>0.073341</td>\n",
       "      <td>0.073027</td>\n",
       "      <td>0.073249</td>\n",
       "      <td>...</td>\n",
       "      <td>0.073240</td>\n",
       "      <td>0.072982</td>\n",
       "      <td>0.072978</td>\n",
       "      <td>0.072890</td>\n",
       "      <td>0.073280</td>\n",
       "      <td>0.072965</td>\n",
       "      <td>0.073188</td>\n",
       "      <td>0.073184</td>\n",
       "      <td>0.073208</td>\n",
       "      <td>0.073204</td>\n",
       "    </tr>\n",
       "    <tr>\n",
       "      <th>FOODS_1_001_CA_2_0.005_validation</th>\n",
       "      <td>0.073369</td>\n",
       "      <td>0.073366</td>\n",
       "      <td>0.073364</td>\n",
       "      <td>0.073362</td>\n",
       "      <td>0.073359</td>\n",
       "      <td>0.073373</td>\n",
       "      <td>0.072960</td>\n",
       "      <td>0.219984</td>\n",
       "      <td>0.219651</td>\n",
       "      <td>0.073284</td>\n",
       "      <td>...</td>\n",
       "      <td>0.073282</td>\n",
       "      <td>0.219743</td>\n",
       "      <td>0.219741</td>\n",
       "      <td>0.073043</td>\n",
       "      <td>0.220067</td>\n",
       "      <td>0.219734</td>\n",
       "      <td>0.073367</td>\n",
       "      <td>0.073365</td>\n",
       "      <td>0.073379</td>\n",
       "      <td>0.073376</td>\n",
       "    </tr>\n",
       "  </tbody>\n",
       "</table>\n",
       "<p>2 rows × 56 columns</p>\n",
       "</div>"
      ],
      "text/plain": [
       "                                         0         1         2         3   \\\n",
       "FOODS_1_001_CA_1_0.005_validation  0.073202  0.073198  0.073194  0.073190   \n",
       "FOODS_1_001_CA_2_0.005_validation  0.073369  0.073366  0.073364  0.073362   \n",
       "\n",
       "                                         4         5         6         7   \\\n",
       "FOODS_1_001_CA_1_0.005_validation  0.073186  0.073210  0.072951  0.073341   \n",
       "FOODS_1_001_CA_2_0.005_validation  0.073359  0.073373  0.072960  0.219984   \n",
       "\n",
       "                                         8         9   ...        46  \\\n",
       "FOODS_1_001_CA_1_0.005_validation  0.073027  0.073249  ...  0.073240   \n",
       "FOODS_1_001_CA_2_0.005_validation  0.219651  0.073284  ...  0.073282   \n",
       "\n",
       "                                         47        48        49        50  \\\n",
       "FOODS_1_001_CA_1_0.005_validation  0.072982  0.072978  0.072890  0.073280   \n",
       "FOODS_1_001_CA_2_0.005_validation  0.219743  0.219741  0.073043  0.220067   \n",
       "\n",
       "                                         51        52        53        54  \\\n",
       "FOODS_1_001_CA_1_0.005_validation  0.072965  0.073188  0.073184  0.073208   \n",
       "FOODS_1_001_CA_2_0.005_validation  0.219734  0.073367  0.073365  0.073379   \n",
       "\n",
       "                                         55  \n",
       "FOODS_1_001_CA_1_0.005_validation  0.073204  \n",
       "FOODS_1_001_CA_2_0.005_validation  0.073376  \n",
       "\n",
       "[2 rows x 56 columns]"
      ]
     },
     "execution_count": 30,
     "metadata": {},
     "output_type": "execute_result"
    }
   ],
   "source": [
    "frame_with_quantile = pd.DataFrame(columns=range(DAY))\n",
    "tempFrameIndex = frame_without_quantile.index\n",
    "\n",
    "for index in ratios.index:\n",
    "    ss_index = tempFrameIndex.str.replace('validation', index + '_validation')\n",
    "    frame_with_quantile = frame_with_quantile.append(\n",
    "        pd.DataFrame(frame_without_quantile.loc[tempFrameIndex].values *  ratios[index], index=ss_index))\n",
    "\n",
    "frame_with_quantile.head(2)"
   ]
  },
  {
   "cell_type": "markdown",
   "metadata": {},
   "source": [
    "### we slice the table into two part, and produce the final result.\n",
    "separating the frame into two parts that is validation and evaluation. That is 56 days been divided into two parts (28 days)."
   ]
  },
  {
   "cell_type": "code",
   "execution_count": 31,
   "metadata": {},
   "outputs": [],
   "source": [
    "frame_validation = frame_with_quantile.iloc[:,:28]\n",
    "frame_evaluation = frame_with_quantile.iloc[:,28:]\n",
    "frame_evaluation.index = frame_evaluation.index.str.replace('validation', 'evaluation') #--------------> separating Two frames\n",
    "sample_submission.loc[frame_validation.index,] = frame_validation.values \n",
    "sample_submission.loc[frame_evaluation.index,] = frame_evaluation.values\n"
   ]
  },
  {
   "cell_type": "code",
   "execution_count": 32,
   "metadata": {},
   "outputs": [],
   "source": [
    "sample_submission.reset_index(inplace=True)\n",
    "sample_submission.to_csv(\"sample_submission.csv\", index=False)"
   ]
  },
  {
   "cell_type": "markdown",
   "metadata": {},
   "source": [
    "<a id='conclusion'></a>\n",
    "\n",
    "## 10.Conclusion:"
   ]
  },
  {
   "cell_type": "markdown",
   "metadata": {},
   "source": [
    "This project is about taking part in competetion that is going on kaggle website that is online platform NAME <b> \"M5 Uncertainity\"</b>\n",
    "* This project performs various function on the datasets that is been created by the four csv files from kaggle platform.\n",
    "* Various EDA analysis is been performed on the datasets for retriveing more information for better understanding. EDA defines the state ids, dept ids, store ids and also gives us the count of the three state that is TX, WI, CA.\n",
    "* Several althorithm and relevant parameters has been validated and SVR is seen to perform the best.\n",
    "* Multi Process technique is used in this notebook to accelerate the computing, and it proves to be efficient. \n",
    "* Regard to KNN, the parameters with n_neighbors=5, weights='uniform' perfrom the best;\n",
    "* Among all the algorithms list in this notebook, namely KNN, RandomForest and SVR, SVR seems the best performance.\n",
    "* However, in the real test, it seems that SVR get a rather low score than KNN.\n",
    "* We try to use several kernels to run different algorithms and it seems that KNN use the least time to finish the computing."
   ]
  },
  {
   "cell_type": "code",
   "execution_count": null,
   "metadata": {},
   "outputs": [],
   "source": []
  }
 ],
 "metadata": {
  "kernelspec": {
   "display_name": "Python 3",
   "language": "python",
   "name": "python3"
  },
  "language_info": {
   "codemirror_mode": {
    "name": "ipython",
    "version": 3
   },
   "file_extension": ".py",
   "mimetype": "text/x-python",
   "name": "python",
   "nbconvert_exporter": "python",
   "pygments_lexer": "ipython3",
   "version": "3.8.5"
  }
 },
 "nbformat": 4,
 "nbformat_minor": 4
}
